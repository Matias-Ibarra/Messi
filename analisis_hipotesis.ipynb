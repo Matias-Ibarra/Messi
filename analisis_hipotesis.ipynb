{
 "cells": [
  {
   "cell_type": "code",
   "execution_count": 288,
   "metadata": {},
   "outputs": [
    {
     "data": {
      "text/html": [
       "<div>\n",
       "<style scoped>\n",
       "    .dataframe tbody tr th:only-of-type {\n",
       "        vertical-align: middle;\n",
       "    }\n",
       "\n",
       "    .dataframe tbody tr th {\n",
       "        vertical-align: top;\n",
       "    }\n",
       "\n",
       "    .dataframe thead th {\n",
       "        text-align: right;\n",
       "    }\n",
       "</style>\n",
       "<table border=\"1\" class=\"dataframe\">\n",
       "  <thead>\n",
       "    <tr style=\"text-align: right;\">\n",
       "      <th></th>\n",
       "      <th>Season</th>\n",
       "      <th>Competition</th>\n",
       "      <th>Matchday</th>\n",
       "      <th>Date</th>\n",
       "      <th>Venue</th>\n",
       "      <th>Club</th>\n",
       "      <th>Opponent</th>\n",
       "      <th>Result</th>\n",
       "      <th>Playing_Position</th>\n",
       "      <th>Minute</th>\n",
       "      <th>At_score</th>\n",
       "      <th>Type</th>\n",
       "      <th>Goal_assist</th>\n",
       "      <th>Comunidad</th>\n",
       "    </tr>\n",
       "  </thead>\n",
       "  <tbody>\n",
       "    <tr>\n",
       "      <th>0</th>\n",
       "      <td>04/05</td>\n",
       "      <td>LaLiga</td>\n",
       "      <td>34</td>\n",
       "      <td>05-01/05</td>\n",
       "      <td>H</td>\n",
       "      <td>FC Barcelona</td>\n",
       "      <td>Albacete Balompie</td>\n",
       "      <td>2:00</td>\n",
       "      <td>CF</td>\n",
       "      <td>90+1</td>\n",
       "      <td>2:00</td>\n",
       "      <td>Left-footed shot</td>\n",
       "      <td>Ronaldinho Gaacho</td>\n",
       "      <td>Castilla La Mancha</td>\n",
       "    </tr>\n",
       "    <tr>\n",
       "      <th>1</th>\n",
       "      <td>05/06</td>\n",
       "      <td>UEFA Champions League</td>\n",
       "      <td>Group Stage</td>\n",
       "      <td>11-02/05</td>\n",
       "      <td>H</td>\n",
       "      <td>FC Barcelona</td>\n",
       "      <td>Panathinaikos Athens</td>\n",
       "      <td>5:00</td>\n",
       "      <td>RW</td>\n",
       "      <td>34</td>\n",
       "      <td>3:00</td>\n",
       "      <td>Left-footed shot</td>\n",
       "      <td>NaN</td>\n",
       "      <td>Atenas</td>\n",
       "    </tr>\n",
       "    <tr>\n",
       "      <th>2</th>\n",
       "      <td>10/11</td>\n",
       "      <td>UEFA Champions League</td>\n",
       "      <td>Group Stage</td>\n",
       "      <td>9/14/10</td>\n",
       "      <td>H</td>\n",
       "      <td>FC Barcelona</td>\n",
       "      <td>Panathinaikos Athens</td>\n",
       "      <td>5:01</td>\n",
       "      <td>CF</td>\n",
       "      <td>22</td>\n",
       "      <td>1:01</td>\n",
       "      <td>Left-footed shot</td>\n",
       "      <td>Xavi</td>\n",
       "      <td>Atenas</td>\n",
       "    </tr>\n",
       "    <tr>\n",
       "      <th>3</th>\n",
       "      <td>10/11</td>\n",
       "      <td>UEFA Champions League</td>\n",
       "      <td>Group Stage</td>\n",
       "      <td>9/14/10</td>\n",
       "      <td>H</td>\n",
       "      <td>FC Barcelona</td>\n",
       "      <td>Panathinaikos Athens</td>\n",
       "      <td>5:01</td>\n",
       "      <td>CF</td>\n",
       "      <td>45</td>\n",
       "      <td>3:01</td>\n",
       "      <td>Left-footed shot</td>\n",
       "      <td>Pedro</td>\n",
       "      <td>Atenas</td>\n",
       "    </tr>\n",
       "    <tr>\n",
       "      <th>4</th>\n",
       "      <td>10/11</td>\n",
       "      <td>UEFA Champions League</td>\n",
       "      <td>Group Stage</td>\n",
       "      <td>11/24/10</td>\n",
       "      <td>A</td>\n",
       "      <td>FC Barcelona</td>\n",
       "      <td>Panathinaikos Athens</td>\n",
       "      <td>0:03</td>\n",
       "      <td>CF</td>\n",
       "      <td>63</td>\n",
       "      <td>0:02</td>\n",
       "      <td>Left-footed shot</td>\n",
       "      <td>Adriano</td>\n",
       "      <td>Atenas</td>\n",
       "    </tr>\n",
       "  </tbody>\n",
       "</table>\n",
       "</div>"
      ],
      "text/plain": [
       "  Season            Competition     Matchday      Date Venue          Club  \\\n",
       "0  04/05                 LaLiga           34  05-01/05     H  FC Barcelona   \n",
       "1  05/06  UEFA Champions League  Group Stage  11-02/05     H  FC Barcelona   \n",
       "2  10/11  UEFA Champions League  Group Stage   9/14/10     H  FC Barcelona   \n",
       "3  10/11  UEFA Champions League  Group Stage   9/14/10     H  FC Barcelona   \n",
       "4  10/11  UEFA Champions League  Group Stage  11/24/10     A  FC Barcelona   \n",
       "\n",
       "               Opponent Result Playing_Position Minute At_score  \\\n",
       "0     Albacete Balompie   2:00               CF   90+1     2:00   \n",
       "1  Panathinaikos Athens   5:00               RW     34     3:00   \n",
       "2  Panathinaikos Athens   5:01               CF     22     1:01   \n",
       "3  Panathinaikos Athens   5:01               CF     45     3:01   \n",
       "4  Panathinaikos Athens   0:03               CF     63     0:02   \n",
       "\n",
       "               Type        Goal_assist           Comunidad  \n",
       "0  Left-footed shot  Ronaldinho Gaacho  Castilla La Mancha  \n",
       "1  Left-footed shot                NaN              Atenas  \n",
       "2  Left-footed shot               Xavi              Atenas  \n",
       "3  Left-footed shot              Pedro              Atenas  \n",
       "4  Left-footed shot            Adriano              Atenas  "
      ]
     },
     "execution_count": 288,
     "metadata": {},
     "output_type": "execute_result"
    }
   ],
   "source": [
    "# Importo el dataset con los goles y las librerias necesarias.\n",
    "\n",
    "import pandas as pd\n",
    "import seaborn as sns\n",
    "import pandas as pd\n",
    "import matplotlib.pyplot as plt\n",
    "df_con_ccaa = pd.read_csv('data/messi_goles_con_caa.csv')\n",
    "df_con_ccaa.head()"
   ]
  },
  {
   "cell_type": "code",
   "execution_count": 289,
   "metadata": {},
   "outputs": [
    {
     "data": {
      "text/html": [
       "<div>\n",
       "<style scoped>\n",
       "    .dataframe tbody tr th:only-of-type {\n",
       "        vertical-align: middle;\n",
       "    }\n",
       "\n",
       "    .dataframe tbody tr th {\n",
       "        vertical-align: top;\n",
       "    }\n",
       "\n",
       "    .dataframe thead th {\n",
       "        text-align: right;\n",
       "    }\n",
       "</style>\n",
       "<table border=\"1\" class=\"dataframe\">\n",
       "  <thead>\n",
       "    <tr style=\"text-align: right;\">\n",
       "      <th></th>\n",
       "      <th>Opponent</th>\n",
       "    </tr>\n",
       "    <tr>\n",
       "      <th>Comunidad</th>\n",
       "      <th></th>\n",
       "    </tr>\n",
       "  </thead>\n",
       "  <tbody>\n",
       "    <tr>\n",
       "      <th>Madrid</th>\n",
       "      <td>108</td>\n",
       "    </tr>\n",
       "    <tr>\n",
       "      <th>Andalucía</th>\n",
       "      <td>102</td>\n",
       "    </tr>\n",
       "    <tr>\n",
       "      <th>C. Valenciana</th>\n",
       "      <td>81</td>\n",
       "    </tr>\n",
       "    <tr>\n",
       "      <th>País Vasco</th>\n",
       "      <td>80</td>\n",
       "    </tr>\n",
       "    <tr>\n",
       "      <th>Galicia</th>\n",
       "      <td>34</td>\n",
       "    </tr>\n",
       "    <tr>\n",
       "      <th>...</th>\n",
       "      <td>...</td>\n",
       "    </tr>\n",
       "    <tr>\n",
       "      <th>Castilla La Mancha</th>\n",
       "      <td>1</td>\n",
       "    </tr>\n",
       "    <tr>\n",
       "      <th>Budapest</th>\n",
       "      <td>1</td>\n",
       "    </tr>\n",
       "    <tr>\n",
       "      <th>Bremen</th>\n",
       "      <td>1</td>\n",
       "    </tr>\n",
       "    <tr>\n",
       "      <th>Angers</th>\n",
       "      <td>1</td>\n",
       "    </tr>\n",
       "    <tr>\n",
       "      <th>mönchengladbach</th>\n",
       "      <td>1</td>\n",
       "    </tr>\n",
       "  </tbody>\n",
       "</table>\n",
       "<p>65 rows × 1 columns</p>\n",
       "</div>"
      ],
      "text/plain": [
       "                    Opponent\n",
       "Comunidad                   \n",
       "Madrid                   108\n",
       "Andalucía                102\n",
       "C. Valenciana             81\n",
       "País Vasco                80\n",
       "Galicia                   34\n",
       "...                      ...\n",
       "Castilla La Mancha         1\n",
       "Budapest                   1\n",
       "Bremen                     1\n",
       "Angers                     1\n",
       "mönchengladbach            1\n",
       "\n",
       "[65 rows x 1 columns]"
      ]
     },
     "execution_count": 289,
     "metadata": {},
     "output_type": "execute_result"
    }
   ],
   "source": [
    "# Veo la sumatoria de goles agrupado por Comunidades Autonomas (o provincias/ciudades de equipos de otros países)\n",
    "\n",
    "goles_por_comunidad = df_con_ccaa.groupby('Comunidad')['Opponent'].aggregate('count').sort_values(ascending=False)\n",
    "goles_por_comunidad = pd.DataFrame(goles_por_comunidad)\n",
    "goles_por_comunidad"
   ]
  },
  {
   "cell_type": "code",
   "execution_count": 290,
   "metadata": {},
   "outputs": [],
   "source": [
    "# Análisis de la primera hipótesis.\n",
    "\n",
    "hipotesis_1 = \"\"\"\n",
    "    El desempeño goleador de Messi es más alto enfrentando a equipos de la Comunidad de Madrid que a cualquier otra Comunidad de España.\n",
    "\"\"\""
   ]
  },
  {
   "cell_type": "code",
   "execution_count": 291,
   "metadata": {},
   "outputs": [
    {
     "data": {
      "text/html": [
       "<div>\n",
       "<style scoped>\n",
       "    .dataframe tbody tr th:only-of-type {\n",
       "        vertical-align: middle;\n",
       "    }\n",
       "\n",
       "    .dataframe tbody tr th {\n",
       "        vertical-align: top;\n",
       "    }\n",
       "\n",
       "    .dataframe thead th {\n",
       "        text-align: right;\n",
       "    }\n",
       "</style>\n",
       "<table border=\"1\" class=\"dataframe\">\n",
       "  <thead>\n",
       "    <tr style=\"text-align: right;\">\n",
       "      <th></th>\n",
       "      <th>Opponent</th>\n",
       "    </tr>\n",
       "    <tr>\n",
       "      <th>Comunidad</th>\n",
       "      <th></th>\n",
       "    </tr>\n",
       "  </thead>\n",
       "  <tbody>\n",
       "    <tr>\n",
       "      <th>Madrid</th>\n",
       "      <td>108</td>\n",
       "    </tr>\n",
       "  </tbody>\n",
       "</table>\n",
       "</div>"
      ],
      "text/plain": [
       "           Opponent\n",
       "Comunidad          \n",
       "Madrid          108"
      ]
     },
     "execution_count": 291,
     "metadata": {},
     "output_type": "execute_result"
    }
   ],
   "source": [
    "# Messi le marcó mas goles a equipos de la Comunidad de Madrid que a cualquier otra Comunidad.\n",
    "\n",
    "goles_por_comunidad['Opponent'] = goles_por_comunidad['Opponent'].astype(int)\n",
    "goles_por_comunidad.sort_values('Opponent', ascending=False, inplace=True)\n",
    "goles_por_comunidad[goles_por_comunidad['Opponent'] == goles_por_comunidad['Opponent'].max()]"
   ]
  },
  {
   "cell_type": "code",
   "execution_count": 292,
   "metadata": {},
   "outputs": [],
   "source": [
    "# Pero falta ver el promedio de gol por partido"
   ]
  },
  {
   "cell_type": "code",
   "execution_count": 293,
   "metadata": {},
   "outputs": [
    {
     "data": {
      "text/html": [
       "<div>\n",
       "<style scoped>\n",
       "    .dataframe tbody tr th:only-of-type {\n",
       "        vertical-align: middle;\n",
       "    }\n",
       "\n",
       "    .dataframe tbody tr th {\n",
       "        vertical-align: top;\n",
       "    }\n",
       "\n",
       "    .dataframe thead th {\n",
       "        text-align: right;\n",
       "    }\n",
       "</style>\n",
       "<table border=\"1\" class=\"dataframe\">\n",
       "  <thead>\n",
       "    <tr style=\"text-align: right;\">\n",
       "      <th></th>\n",
       "      <th>Equipos</th>\n",
       "      <th>Goles</th>\n",
       "      <th>Partidos</th>\n",
       "    </tr>\n",
       "  </thead>\n",
       "  <tbody>\n",
       "    <tr>\n",
       "      <th>0</th>\n",
       "      <td>AC Milan</td>\n",
       "      <td>8 (8 CL)</td>\n",
       "      <td>8 (8 CL)</td>\n",
       "    </tr>\n",
       "    <tr>\n",
       "      <th>1</th>\n",
       "      <td>Club Atletico de Ceuta</td>\n",
       "      <td>1 (1 CdR)</td>\n",
       "      <td>1 (1 CdR)</td>\n",
       "    </tr>\n",
       "    <tr>\n",
       "      <th>2</th>\n",
       "      <td>AS Roma</td>\n",
       "      <td>2 (2 CL)</td>\n",
       "      <td>4 (CL)</td>\n",
       "    </tr>\n",
       "    <tr>\n",
       "      <th>3</th>\n",
       "      <td>AC Ajaccio</td>\n",
       "      <td>1 (1 Liga)</td>\n",
       "      <td>1 (1 Liga)</td>\n",
       "    </tr>\n",
       "    <tr>\n",
       "      <th>4</th>\n",
       "      <td>Ajax Amsterdam</td>\n",
       "      <td>6 (6 CL)</td>\n",
       "      <td>3 (3 CL)</td>\n",
       "    </tr>\n",
       "  </tbody>\n",
       "</table>\n",
       "</div>"
      ],
      "text/plain": [
       "                  Equipos       Goles    Partidos\n",
       "0                AC Milan    8 (8 CL)    8 (8 CL)\n",
       "1  Club Atletico de Ceuta   1 (1 CdR)   1 (1 CdR)\n",
       "2                 AS Roma    2 (2 CL)      4 (CL)\n",
       "3              AC Ajaccio  1 (1 Liga)  1 (1 Liga)\n",
       "4          Ajax Amsterdam    6 (6 CL)    3 (3 CL)"
      ]
     },
     "execution_count": 293,
     "metadata": {},
     "output_type": "execute_result"
    }
   ],
   "source": [
    "golespartidos = pd.read_csv('data/goles_mas_partidos.csv', encoding='latin-1', sep=\";\")\n",
    "golespartidos.head()"
   ]
  },
  {
   "cell_type": "code",
   "execution_count": 294,
   "metadata": {},
   "outputs": [
    {
     "name": "stdout",
     "output_type": "stream",
     "text": [
      "[8, 1, 2, 1, 6, 1, 1, 3, 9, 29, 32, 1, 2, 7, 4, 1, 1, 25, 11, 2, 5, 1, 1, 13, 8, 3, 2, 2, 6, 1, 13, 20, 3, 7, 1, 2, 3, 1, 1, 2, 1, 21, 4, 15, 2, 3, 24, 2, 2, 3, 13, 7, 4, 3, 2, 1, 1, 6, 4, 4, 6, 25, 16, 2, 1, 12, 1, 18, 26, 26, 18, 8, 14, 3, 1, 20, 4, 1, 1, 2, 38, 3, 1, 4, 6, 1, 2, 1, 1, 13, 4, 31, 3, 3, 16, 1, 1]\n",
      "[8, 1, 4, 1, 3, 2, 1, 2, 6, 41, 43, 1, 1, 3, 6, 1, 2, 22, 9, 2, 2, 1, 3, 18, 6, 10, 2, 2, 3, 1, 12, 17, 3, 5, 1, 2, 2, 1, 2, 2, 1, 27, 4, 15, 2, 9, 23, 3, 4, 2, 19, 8, 6, 3, 1, 4, 2, 8, 2, 4, 10, 35, 14, 1, 2, 13, 2, 11, 24, 47, 27, 12, 16, 5, 1, 11, 3, 2, 3, 1, 43, 5, 2, 2, 8, 4, 2, 2, 2, 12, 6, 36, 3, 2, 28, 2, 1]\n"
     ]
    }
   ],
   "source": [
    "# Extraer solo goles y partidos y darle formato numero\n",
    "\n",
    "lista = list(golespartidos['Goles'].values)\n",
    "lista\n",
    "lista_2 = []\n",
    "for i in lista:\n",
    "    lista_2.append(int(i[:2]))\n",
    "\n",
    "print(lista_2)\n",
    "\n",
    "lista_3 = list(golespartidos['Partidos'].values)\n",
    "lista\n",
    "lista_4 = []\n",
    "for i in lista_3:\n",
    "    lista_4.append(int(i[:2]))\n",
    "\n",
    "print(lista_4)"
   ]
  },
  {
   "cell_type": "code",
   "execution_count": 295,
   "metadata": {},
   "outputs": [
    {
     "data": {
      "text/html": [
       "<div>\n",
       "<style scoped>\n",
       "    .dataframe tbody tr th:only-of-type {\n",
       "        vertical-align: middle;\n",
       "    }\n",
       "\n",
       "    .dataframe tbody tr th {\n",
       "        vertical-align: top;\n",
       "    }\n",
       "\n",
       "    .dataframe thead th {\n",
       "        text-align: right;\n",
       "    }\n",
       "</style>\n",
       "<table border=\"1\" class=\"dataframe\">\n",
       "  <thead>\n",
       "    <tr style=\"text-align: right;\">\n",
       "      <th></th>\n",
       "      <th>Equipos</th>\n",
       "      <th>Goles</th>\n",
       "      <th>Partidos</th>\n",
       "    </tr>\n",
       "  </thead>\n",
       "  <tbody>\n",
       "    <tr>\n",
       "      <th>0</th>\n",
       "      <td>AC Milan</td>\n",
       "      <td>8</td>\n",
       "      <td>8</td>\n",
       "    </tr>\n",
       "    <tr>\n",
       "      <th>1</th>\n",
       "      <td>Club Atletico de Ceuta</td>\n",
       "      <td>1</td>\n",
       "      <td>1</td>\n",
       "    </tr>\n",
       "    <tr>\n",
       "      <th>2</th>\n",
       "      <td>AS Roma</td>\n",
       "      <td>2</td>\n",
       "      <td>4</td>\n",
       "    </tr>\n",
       "    <tr>\n",
       "      <th>3</th>\n",
       "      <td>AC Ajaccio</td>\n",
       "      <td>1</td>\n",
       "      <td>1</td>\n",
       "    </tr>\n",
       "    <tr>\n",
       "      <th>4</th>\n",
       "      <td>Ajax Amsterdam</td>\n",
       "      <td>6</td>\n",
       "      <td>3</td>\n",
       "    </tr>\n",
       "    <tr>\n",
       "      <th>...</th>\n",
       "      <td>...</td>\n",
       "      <td>...</td>\n",
       "      <td>...</td>\n",
       "    </tr>\n",
       "    <tr>\n",
       "      <th>92</th>\n",
       "      <td>VfB Stuttgart</td>\n",
       "      <td>3</td>\n",
       "      <td>3</td>\n",
       "    </tr>\n",
       "    <tr>\n",
       "      <th>93</th>\n",
       "      <td>FC Viktoria Plzen</td>\n",
       "      <td>3</td>\n",
       "      <td>2</td>\n",
       "    </tr>\n",
       "    <tr>\n",
       "      <th>94</th>\n",
       "      <td>Villarreal CF</td>\n",
       "      <td>16</td>\n",
       "      <td>28</td>\n",
       "    </tr>\n",
       "    <tr>\n",
       "      <th>95</th>\n",
       "      <td>SV Werder Bremen</td>\n",
       "      <td>1</td>\n",
       "      <td>2</td>\n",
       "    </tr>\n",
       "    <tr>\n",
       "      <th>96</th>\n",
       "      <td>Olympique Marseille</td>\n",
       "      <td>1</td>\n",
       "      <td>1</td>\n",
       "    </tr>\n",
       "  </tbody>\n",
       "</table>\n",
       "<p>97 rows × 3 columns</p>\n",
       "</div>"
      ],
      "text/plain": [
       "                   Equipos  Goles  Partidos\n",
       "0                 AC Milan      8         8\n",
       "1   Club Atletico de Ceuta      1         1\n",
       "2                  AS Roma      2         4\n",
       "3               AC Ajaccio      1         1\n",
       "4           Ajax Amsterdam      6         3\n",
       "..                     ...    ...       ...\n",
       "92           VfB Stuttgart      3         3\n",
       "93       FC Viktoria Plzen      3         2\n",
       "94           Villarreal CF     16        28\n",
       "95        SV Werder Bremen      1         2\n",
       "96     Olympique Marseille      1         1\n",
       "\n",
       "[97 rows x 3 columns]"
      ]
     },
     "execution_count": 295,
     "metadata": {},
     "output_type": "execute_result"
    }
   ],
   "source": [
    "# Goles y partidos limpios.\n",
    "\n",
    "golespartidos['Goles'] = lista_2\n",
    "golespartidos['Partidos'] = lista_4\n",
    "golespartidos"
   ]
  },
  {
   "cell_type": "code",
   "execution_count": 296,
   "metadata": {},
   "outputs": [
    {
     "data": {
      "text/html": [
       "<div>\n",
       "<style scoped>\n",
       "    .dataframe tbody tr th:only-of-type {\n",
       "        vertical-align: middle;\n",
       "    }\n",
       "\n",
       "    .dataframe tbody tr th {\n",
       "        vertical-align: top;\n",
       "    }\n",
       "\n",
       "    .dataframe thead th {\n",
       "        text-align: right;\n",
       "    }\n",
       "</style>\n",
       "<table border=\"1\" class=\"dataframe\">\n",
       "  <thead>\n",
       "    <tr style=\"text-align: right;\">\n",
       "      <th></th>\n",
       "      <th>Equipos</th>\n",
       "      <th>Goles</th>\n",
       "      <th>Partidos</th>\n",
       "      <th>Goles por partido</th>\n",
       "    </tr>\n",
       "  </thead>\n",
       "  <tbody>\n",
       "    <tr>\n",
       "      <th>20</th>\n",
       "      <td>CD Tenerife</td>\n",
       "      <td>5</td>\n",
       "      <td>2</td>\n",
       "      <td>2.500000</td>\n",
       "    </tr>\n",
       "    <tr>\n",
       "      <th>13</th>\n",
       "      <td>Bayer 04 Leverkusen</td>\n",
       "      <td>7</td>\n",
       "      <td>3</td>\n",
       "      <td>2.333333</td>\n",
       "    </tr>\n",
       "    <tr>\n",
       "      <th>12</th>\n",
       "      <td>BATE Borisov</td>\n",
       "      <td>2</td>\n",
       "      <td>1</td>\n",
       "      <td>2.000000</td>\n",
       "    </tr>\n",
       "    <tr>\n",
       "      <th>63</th>\n",
       "      <td>RB Leipzig</td>\n",
       "      <td>2</td>\n",
       "      <td>1</td>\n",
       "      <td>2.000000</td>\n",
       "    </tr>\n",
       "    <tr>\n",
       "      <th>4</th>\n",
       "      <td>Ajax Amsterdam</td>\n",
       "      <td>6</td>\n",
       "      <td>3</td>\n",
       "      <td>2.000000</td>\n",
       "    </tr>\n",
       "    <tr>\n",
       "      <th>...</th>\n",
       "      <td>...</td>\n",
       "      <td>...</td>\n",
       "      <td>...</td>\n",
       "      <td>...</td>\n",
       "    </tr>\n",
       "    <tr>\n",
       "      <th>22</th>\n",
       "      <td>Cadiz CF</td>\n",
       "      <td>1</td>\n",
       "      <td>3</td>\n",
       "      <td>0.333333</td>\n",
       "    </tr>\n",
       "    <tr>\n",
       "      <th>45</th>\n",
       "      <td>Juventus FC</td>\n",
       "      <td>3</td>\n",
       "      <td>9</td>\n",
       "      <td>0.333333</td>\n",
       "    </tr>\n",
       "    <tr>\n",
       "      <th>25</th>\n",
       "      <td>Chelsea FC</td>\n",
       "      <td>3</td>\n",
       "      <td>10</td>\n",
       "      <td>0.300000</td>\n",
       "    </tr>\n",
       "    <tr>\n",
       "      <th>85</th>\n",
       "      <td>Sporting CP</td>\n",
       "      <td>1</td>\n",
       "      <td>4</td>\n",
       "      <td>0.250000</td>\n",
       "    </tr>\n",
       "    <tr>\n",
       "      <th>55</th>\n",
       "      <td>OGC Nice</td>\n",
       "      <td>1</td>\n",
       "      <td>4</td>\n",
       "      <td>0.250000</td>\n",
       "    </tr>\n",
       "  </tbody>\n",
       "</table>\n",
       "<p>97 rows × 4 columns</p>\n",
       "</div>"
      ],
      "text/plain": [
       "                Equipos  Goles  Partidos  Goles por partido\n",
       "20          CD Tenerife      5         2           2.500000\n",
       "13  Bayer 04 Leverkusen      7         3           2.333333\n",
       "12         BATE Borisov      2         1           2.000000\n",
       "63           RB Leipzig      2         1           2.000000\n",
       "4        Ajax Amsterdam      6         3           2.000000\n",
       "..                  ...    ...       ...                ...\n",
       "22             Cadiz CF      1         3           0.333333\n",
       "45          Juventus FC      3         9           0.333333\n",
       "25           Chelsea FC      3        10           0.300000\n",
       "85          Sporting CP      1         4           0.250000\n",
       "55             OGC Nice      1         4           0.250000\n",
       "\n",
       "[97 rows x 4 columns]"
      ]
     },
     "execution_count": 296,
     "metadata": {},
     "output_type": "execute_result"
    }
   ],
   "source": [
    "# Goles por partido\n",
    "\n",
    "golespartidos['Goles por partido'] = golespartidos['Goles'] / golespartidos['Partidos']\n",
    "golespartidos.sort_values('Goles por partido', ascending=False)"
   ]
  },
  {
   "cell_type": "code",
   "execution_count": 297,
   "metadata": {},
   "outputs": [
    {
     "data": {
      "image/png": "[encoded data removed]",
      "text/plain": [
       "<Figure size 1200x300 with 1 Axes>"
      ]
     },
     "metadata": {},
     "output_type": "display_data"
    }
   ],
   "source": [
    "# Hay varios equipos donde el promedio de gol se diferencia mucho del resto\n",
    "\n",
    "fig = plt.figure(figsize=(12,3))\n",
    "sns.boxplot(x=golespartidos[\"Goles por partido\"])\n",
    "plt.title('Descubriendo outliers');"
   ]
  },
  {
   "cell_type": "code",
   "execution_count": 298,
   "metadata": {},
   "outputs": [],
   "source": [
    "fig.savefig('graficos/outliers_promedio_gol.png')"
   ]
  },
  {
   "cell_type": "code",
   "execution_count": 299,
   "metadata": {},
   "outputs": [
    {
     "data": {
      "text/plain": [
       "Text(0.5, 1.0, 'Distribución del promedio de gol')"
      ]
     },
     "execution_count": 299,
     "metadata": {},
     "output_type": "execute_result"
    },
    {
     "data": {
      "image/png": "[encoded data removed]",
      "text/plain": [
       "<Figure size 1600x500 with 1 Axes>"
      ]
     },
     "metadata": {},
     "output_type": "display_data"
    }
   ],
   "source": [
    "fig = plt.figure(figsize=(16,5))\n",
    "sns.violinplot(x=golespartidos[\"Goles por partido\"], inner=None)\n",
    "sns.swarmplot(data=golespartidos, x='Goles por partido', color='skyblue', alpha=0.9)\n",
    "plt.title(\"Distribución del promedio de gol\")"
   ]
  },
  {
   "cell_type": "code",
   "execution_count": 300,
   "metadata": {},
   "outputs": [],
   "source": [
    "fig.savefig('graficos/outliers_promedio_gol_violin.png')"
   ]
  },
  {
   "cell_type": "code",
   "execution_count": 301,
   "metadata": {},
   "outputs": [
    {
     "data": {
      "text/html": [
       "<div>\n",
       "<style scoped>\n",
       "    .dataframe tbody tr th:only-of-type {\n",
       "        vertical-align: middle;\n",
       "    }\n",
       "\n",
       "    .dataframe tbody tr th {\n",
       "        vertical-align: top;\n",
       "    }\n",
       "\n",
       "    .dataframe thead th {\n",
       "        text-align: right;\n",
       "    }\n",
       "</style>\n",
       "<table border=\"1\" class=\"dataframe\">\n",
       "  <thead>\n",
       "    <tr style=\"text-align: right;\">\n",
       "      <th></th>\n",
       "      <th>Equipos</th>\n",
       "      <th>Goles</th>\n",
       "      <th>Partidos</th>\n",
       "      <th>Goles por partido</th>\n",
       "    </tr>\n",
       "  </thead>\n",
       "  <tbody>\n",
       "    <tr>\n",
       "      <th>20</th>\n",
       "      <td>CD Tenerife</td>\n",
       "      <td>5</td>\n",
       "      <td>2</td>\n",
       "      <td>2.500000</td>\n",
       "    </tr>\n",
       "    <tr>\n",
       "      <th>13</th>\n",
       "      <td>Bayer 04 Leverkusen</td>\n",
       "      <td>7</td>\n",
       "      <td>3</td>\n",
       "      <td>2.333333</td>\n",
       "    </tr>\n",
       "    <tr>\n",
       "      <th>12</th>\n",
       "      <td>BATE Borisov</td>\n",
       "      <td>2</td>\n",
       "      <td>1</td>\n",
       "      <td>2.000000</td>\n",
       "    </tr>\n",
       "    <tr>\n",
       "      <th>63</th>\n",
       "      <td>RB Leipzig</td>\n",
       "      <td>2</td>\n",
       "      <td>1</td>\n",
       "      <td>2.000000</td>\n",
       "    </tr>\n",
       "    <tr>\n",
       "      <th>4</th>\n",
       "      <td>Ajax Amsterdam</td>\n",
       "      <td>6</td>\n",
       "      <td>3</td>\n",
       "      <td>2.000000</td>\n",
       "    </tr>\n",
       "    <tr>\n",
       "      <th>28</th>\n",
       "      <td>CÃ³rdoba CF</td>\n",
       "      <td>6</td>\n",
       "      <td>3</td>\n",
       "      <td>2.000000</td>\n",
       "    </tr>\n",
       "    <tr>\n",
       "      <th>58</th>\n",
       "      <td>PSV Eindhoven</td>\n",
       "      <td>4</td>\n",
       "      <td>2</td>\n",
       "      <td>2.000000</td>\n",
       "    </tr>\n",
       "    <tr>\n",
       "      <th>54</th>\n",
       "      <td>Gimnastic de Tarragona</td>\n",
       "      <td>2</td>\n",
       "      <td>1</td>\n",
       "      <td>2.000000</td>\n",
       "    </tr>\n",
       "    <tr>\n",
       "      <th>83</th>\n",
       "      <td>Spartak Moscow</td>\n",
       "      <td>4</td>\n",
       "      <td>2</td>\n",
       "      <td>2.000000</td>\n",
       "    </tr>\n",
       "    <tr>\n",
       "      <th>79</th>\n",
       "      <td>Santos FC</td>\n",
       "      <td>2</td>\n",
       "      <td>1</td>\n",
       "      <td>2.000000</td>\n",
       "    </tr>\n",
       "    <tr>\n",
       "      <th>75</th>\n",
       "      <td>SD Eibar</td>\n",
       "      <td>20</td>\n",
       "      <td>11</td>\n",
       "      <td>1.818182</td>\n",
       "    </tr>\n",
       "    <tr>\n",
       "      <th>67</th>\n",
       "      <td>Rayo Vallecano</td>\n",
       "      <td>18</td>\n",
       "      <td>11</td>\n",
       "      <td>1.636364</td>\n",
       "    </tr>\n",
       "    <tr>\n",
       "      <th>8</th>\n",
       "      <td>Arsenal FC</td>\n",
       "      <td>9</td>\n",
       "      <td>6</td>\n",
       "      <td>1.500000</td>\n",
       "    </tr>\n",
       "    <tr>\n",
       "      <th>7</th>\n",
       "      <td>APOEL Nicosia</td>\n",
       "      <td>3</td>\n",
       "      <td>2</td>\n",
       "      <td>1.500000</td>\n",
       "    </tr>\n",
       "    <tr>\n",
       "      <th>36</th>\n",
       "      <td>FC Copenhagen</td>\n",
       "      <td>3</td>\n",
       "      <td>2</td>\n",
       "      <td>1.500000</td>\n",
       "    </tr>\n",
       "  </tbody>\n",
       "</table>\n",
       "</div>"
      ],
      "text/plain": [
       "                   Equipos  Goles  Partidos  Goles por partido\n",
       "20             CD Tenerife      5         2           2.500000\n",
       "13     Bayer 04 Leverkusen      7         3           2.333333\n",
       "12            BATE Borisov      2         1           2.000000\n",
       "63              RB Leipzig      2         1           2.000000\n",
       "4           Ajax Amsterdam      6         3           2.000000\n",
       "28             CÃ³rdoba CF      6         3           2.000000\n",
       "58           PSV Eindhoven      4         2           2.000000\n",
       "54  Gimnastic de Tarragona      2         1           2.000000\n",
       "83          Spartak Moscow      4         2           2.000000\n",
       "79               Santos FC      2         1           2.000000\n",
       "75                SD Eibar     20        11           1.818182\n",
       "67          Rayo Vallecano     18        11           1.636364\n",
       "8               Arsenal FC      9         6           1.500000\n",
       "7            APOEL Nicosia      3         2           1.500000\n",
       "36           FC Copenhagen      3         2           1.500000"
      ]
     },
     "execution_count": 301,
     "metadata": {},
     "output_type": "execute_result"
    }
   ],
   "source": [
    "# Hay muchos equipos contra los que te tiene un promedio de gol muy alto, pero pocos partidos.\n",
    "# Para el análisis de Comunidades se tendrán en cuenta vs las que haya disputado al menos 10 partidos.\n",
    "\n",
    "golespartidos.sort_values('Goles por partido', ascending=False).head(15)"
   ]
  },
  {
   "cell_type": "code",
   "execution_count": 302,
   "metadata": {},
   "outputs": [
    {
     "data": {
      "text/html": [
       "<div>\n",
       "<style scoped>\n",
       "    .dataframe tbody tr th:only-of-type {\n",
       "        vertical-align: middle;\n",
       "    }\n",
       "\n",
       "    .dataframe tbody tr th {\n",
       "        vertical-align: top;\n",
       "    }\n",
       "\n",
       "    .dataframe thead th {\n",
       "        text-align: right;\n",
       "    }\n",
       "</style>\n",
       "<table border=\"1\" class=\"dataframe\">\n",
       "  <thead>\n",
       "    <tr style=\"text-align: right;\">\n",
       "      <th></th>\n",
       "      <th>Opponent</th>\n",
       "      <th>Comunidad</th>\n",
       "    </tr>\n",
       "  </thead>\n",
       "  <tbody>\n",
       "    <tr>\n",
       "      <th>0</th>\n",
       "      <td>Albacete Balompie</td>\n",
       "      <td>Castilla La Mancha</td>\n",
       "    </tr>\n",
       "    <tr>\n",
       "      <th>1</th>\n",
       "      <td>Panathinaikos Athens</td>\n",
       "      <td>Atenas</td>\n",
       "    </tr>\n",
       "    <tr>\n",
       "      <th>2</th>\n",
       "      <td>Racing Santander</td>\n",
       "      <td>Cantabria</td>\n",
       "    </tr>\n",
       "    <tr>\n",
       "      <th>3</th>\n",
       "      <td>Athletic Bilbao</td>\n",
       "      <td>País Vasco</td>\n",
       "    </tr>\n",
       "    <tr>\n",
       "      <th>4</th>\n",
       "      <td>Deportivo Alaves</td>\n",
       "      <td>País Vasco</td>\n",
       "    </tr>\n",
       "  </tbody>\n",
       "</table>\n",
       "</div>"
      ],
      "text/plain": [
       "               Opponent           Comunidad\n",
       "0     Albacete Balompie  Castilla La Mancha\n",
       "1  Panathinaikos Athens              Atenas\n",
       "2      Racing Santander           Cantabria\n",
       "3       Athletic Bilbao          País Vasco\n",
       "4      Deportivo Alaves          País Vasco"
      ]
     },
     "execution_count": 302,
     "metadata": {},
     "output_type": "execute_result"
    }
   ],
   "source": [
    "# Dataset creado manualmente para agregar las Comunidades a las que pertenece cada equipo.\n",
    "\n",
    "ccaa = pd.read_csv('data/comunidades_limpio.csv', sep=\",\")\n",
    "ccaa.head()"
   ]
  },
  {
   "cell_type": "code",
   "execution_count": 303,
   "metadata": {},
   "outputs": [
    {
     "data": {
      "text/html": [
       "<div>\n",
       "<style scoped>\n",
       "    .dataframe tbody tr th:only-of-type {\n",
       "        vertical-align: middle;\n",
       "    }\n",
       "\n",
       "    .dataframe tbody tr th {\n",
       "        vertical-align: top;\n",
       "    }\n",
       "\n",
       "    .dataframe thead th {\n",
       "        text-align: right;\n",
       "    }\n",
       "</style>\n",
       "<table border=\"1\" class=\"dataframe\">\n",
       "  <thead>\n",
       "    <tr style=\"text-align: right;\">\n",
       "      <th></th>\n",
       "      <th>Equipos</th>\n",
       "      <th>Goles</th>\n",
       "      <th>Partidos</th>\n",
       "      <th>Goles por partido</th>\n",
       "      <th>Opponent</th>\n",
       "      <th>Comunidad</th>\n",
       "    </tr>\n",
       "  </thead>\n",
       "  <tbody>\n",
       "    <tr>\n",
       "      <th>0</th>\n",
       "      <td>AC Milan</td>\n",
       "      <td>8</td>\n",
       "      <td>8</td>\n",
       "      <td>1.000000</td>\n",
       "      <td>AC Milan</td>\n",
       "      <td>Milan</td>\n",
       "    </tr>\n",
       "    <tr>\n",
       "      <th>1</th>\n",
       "      <td>Club Atletico de Ceuta</td>\n",
       "      <td>1</td>\n",
       "      <td>1</td>\n",
       "      <td>1.000000</td>\n",
       "      <td>Club Atletico de Ceuta</td>\n",
       "      <td>Ceuta</td>\n",
       "    </tr>\n",
       "    <tr>\n",
       "      <th>2</th>\n",
       "      <td>AS Roma</td>\n",
       "      <td>2</td>\n",
       "      <td>4</td>\n",
       "      <td>0.500000</td>\n",
       "      <td>AS Roma</td>\n",
       "      <td>Roma</td>\n",
       "    </tr>\n",
       "    <tr>\n",
       "      <th>3</th>\n",
       "      <td>AC Ajaccio</td>\n",
       "      <td>1</td>\n",
       "      <td>1</td>\n",
       "      <td>1.000000</td>\n",
       "      <td>AC Ajaccio</td>\n",
       "      <td>Ajaccio</td>\n",
       "    </tr>\n",
       "    <tr>\n",
       "      <th>4</th>\n",
       "      <td>Ajax Amsterdam</td>\n",
       "      <td>6</td>\n",
       "      <td>3</td>\n",
       "      <td>2.000000</td>\n",
       "      <td>Ajax Amsterdam</td>\n",
       "      <td>Amnsterdam</td>\n",
       "    </tr>\n",
       "    <tr>\n",
       "      <th>...</th>\n",
       "      <td>...</td>\n",
       "      <td>...</td>\n",
       "      <td>...</td>\n",
       "      <td>...</td>\n",
       "      <td>...</td>\n",
       "      <td>...</td>\n",
       "    </tr>\n",
       "    <tr>\n",
       "      <th>91</th>\n",
       "      <td>VfB Stuttgart</td>\n",
       "      <td>3</td>\n",
       "      <td>3</td>\n",
       "      <td>1.000000</td>\n",
       "      <td>VfB Stuttgart</td>\n",
       "      <td>Stuttgart</td>\n",
       "    </tr>\n",
       "    <tr>\n",
       "      <th>92</th>\n",
       "      <td>FC Viktoria Plzen</td>\n",
       "      <td>3</td>\n",
       "      <td>2</td>\n",
       "      <td>1.500000</td>\n",
       "      <td>FC Viktoria Plzen</td>\n",
       "      <td>Pilsen</td>\n",
       "    </tr>\n",
       "    <tr>\n",
       "      <th>93</th>\n",
       "      <td>Villarreal CF</td>\n",
       "      <td>16</td>\n",
       "      <td>28</td>\n",
       "      <td>0.571429</td>\n",
       "      <td>Villarreal CF</td>\n",
       "      <td>C. Valenciana</td>\n",
       "    </tr>\n",
       "    <tr>\n",
       "      <th>94</th>\n",
       "      <td>SV Werder Bremen</td>\n",
       "      <td>1</td>\n",
       "      <td>2</td>\n",
       "      <td>0.500000</td>\n",
       "      <td>SV Werder Bremen</td>\n",
       "      <td>Bremen</td>\n",
       "    </tr>\n",
       "    <tr>\n",
       "      <th>95</th>\n",
       "      <td>Olympique Marseille</td>\n",
       "      <td>1</td>\n",
       "      <td>1</td>\n",
       "      <td>1.000000</td>\n",
       "      <td>Olympique Marseille</td>\n",
       "      <td>Marsella</td>\n",
       "    </tr>\n",
       "  </tbody>\n",
       "</table>\n",
       "<p>96 rows × 6 columns</p>\n",
       "</div>"
      ],
      "text/plain": [
       "                   Equipos  Goles  Partidos  Goles por partido  \\\n",
       "0                 AC Milan      8         8           1.000000   \n",
       "1   Club Atletico de Ceuta      1         1           1.000000   \n",
       "2                  AS Roma      2         4           0.500000   \n",
       "3               AC Ajaccio      1         1           1.000000   \n",
       "4           Ajax Amsterdam      6         3           2.000000   \n",
       "..                     ...    ...       ...                ...   \n",
       "91           VfB Stuttgart      3         3           1.000000   \n",
       "92       FC Viktoria Plzen      3         2           1.500000   \n",
       "93           Villarreal CF     16        28           0.571429   \n",
       "94        SV Werder Bremen      1         2           0.500000   \n",
       "95     Olympique Marseille      1         1           1.000000   \n",
       "\n",
       "                  Opponent      Comunidad  \n",
       "0                 AC Milan          Milan  \n",
       "1   Club Atletico de Ceuta          Ceuta  \n",
       "2                  AS Roma           Roma  \n",
       "3               AC Ajaccio        Ajaccio  \n",
       "4           Ajax Amsterdam     Amnsterdam  \n",
       "..                     ...            ...  \n",
       "91           VfB Stuttgart      Stuttgart  \n",
       "92       FC Viktoria Plzen         Pilsen  \n",
       "93           Villarreal CF  C. Valenciana  \n",
       "94        SV Werder Bremen         Bremen  \n",
       "95     Olympique Marseille       Marsella  \n",
       "\n",
       "[96 rows x 6 columns]"
      ]
     },
     "execution_count": 303,
     "metadata": {},
     "output_type": "execute_result"
    }
   ],
   "source": [
    "# Merge del dataset de goles con el de Comunidades.\n",
    "\n",
    "golespartidos_conccaa = pd.merge(golespartidos, ccaa, how='inner', left_on='Equipos', right_on='Opponent')\n",
    "golespartidos_conccaa"
   ]
  },
  {
   "cell_type": "code",
   "execution_count": 304,
   "metadata": {},
   "outputs": [
    {
     "name": "stderr",
     "output_type": "stream",
     "text": [
      "C:\\Users\\matia\\AppData\\Local\\Temp\\ipykernel_47524\\1162024830.py:3: FutureWarning: The provided callable <built-in function sum> is currently using SeriesGroupBy.sum. In a future version of pandas, the provided callable will be used directly. To keep current behavior pass the string \"sum\" instead.\n",
      "  golespartidos_conccaa.groupby('Comunidad')['Partidos'].aggregate(sum).sort_values(ascending=False).head(15)\n"
     ]
    },
    {
     "data": {
      "text/plain": [
       "Comunidad\n",
       "Madrid             137\n",
       "Andalucía          112\n",
       "C. Valenciana       95\n",
       "País Vasco          91\n",
       "Cataluña            40\n",
       "Galicia             35\n",
       "Navarrra            22\n",
       "Aragón              19\n",
       "Londres             18\n",
       "Castilla y León     15\n",
       "Manchester          14\n",
       "Islas Baleares      14\n",
       "Cantabria           13\n",
       "París               10\n",
       "Turin                9\n",
       "Name: Partidos, dtype: int64"
      ]
     },
     "execution_count": 304,
     "metadata": {},
     "output_type": "execute_result"
    }
   ],
   "source": [
    "# Partidos vs equipos de cada Comunidad\n",
    "\n",
    "golespartidos_conccaa.groupby('Comunidad')['Partidos'].aggregate(sum).sort_values(ascending=False).head(15)"
   ]
  },
  {
   "cell_type": "code",
   "execution_count": 305,
   "metadata": {},
   "outputs": [
    {
     "name": "stderr",
     "output_type": "stream",
     "text": [
      "C:\\Users\\matia\\AppData\\Local\\Temp\\ipykernel_47524\\3349464316.py:3: FutureWarning: The provided callable <built-in function sum> is currently using SeriesGroupBy.sum. In a future version of pandas, the provided callable will be used directly. To keep current behavior pass the string \"sum\" instead.\n",
      "  mas_10_partidos = golespartidos_conccaa[golespartidos_conccaa['Comunidad'].isin(golespartidos_conccaa.groupby('Comunidad')['Partidos'].aggregate(sum).sort_values(ascending=False).head(14).index)]\n"
     ]
    },
    {
     "data": {
      "text/html": [
       "<div>\n",
       "<style scoped>\n",
       "    .dataframe tbody tr th:only-of-type {\n",
       "        vertical-align: middle;\n",
       "    }\n",
       "\n",
       "    .dataframe tbody tr th {\n",
       "        vertical-align: top;\n",
       "    }\n",
       "\n",
       "    .dataframe thead th {\n",
       "        text-align: right;\n",
       "    }\n",
       "</style>\n",
       "<table border=\"1\" class=\"dataframe\">\n",
       "  <thead>\n",
       "    <tr style=\"text-align: right;\">\n",
       "      <th></th>\n",
       "      <th>Equipos</th>\n",
       "      <th>Goles</th>\n",
       "      <th>Partidos</th>\n",
       "      <th>Goles por partido</th>\n",
       "      <th>Opponent</th>\n",
       "      <th>Comunidad</th>\n",
       "    </tr>\n",
       "  </thead>\n",
       "  <tbody>\n",
       "    <tr>\n",
       "      <th>8</th>\n",
       "      <td>Arsenal FC</td>\n",
       "      <td>9</td>\n",
       "      <td>6</td>\n",
       "      <td>1.500000</td>\n",
       "      <td>Arsenal FC</td>\n",
       "      <td>Londres</td>\n",
       "    </tr>\n",
       "    <tr>\n",
       "      <th>9</th>\n",
       "      <td>Athletic Bilbao</td>\n",
       "      <td>29</td>\n",
       "      <td>41</td>\n",
       "      <td>0.707317</td>\n",
       "      <td>Athletic Bilbao</td>\n",
       "      <td>País Vasco</td>\n",
       "    </tr>\n",
       "    <tr>\n",
       "      <th>10</th>\n",
       "      <td>Atletico de Madrid</td>\n",
       "      <td>32</td>\n",
       "      <td>43</td>\n",
       "      <td>0.744186</td>\n",
       "      <td>Atletico de Madrid</td>\n",
       "      <td>Madrid</td>\n",
       "    </tr>\n",
       "    <tr>\n",
       "      <th>15</th>\n",
       "      <td>Benidorm CD</td>\n",
       "      <td>1</td>\n",
       "      <td>1</td>\n",
       "      <td>1.000000</td>\n",
       "      <td>Benidorm CD</td>\n",
       "      <td>C. Valenciana</td>\n",
       "    </tr>\n",
       "    <tr>\n",
       "      <th>17</th>\n",
       "      <td>CA Osasuna</td>\n",
       "      <td>25</td>\n",
       "      <td>22</td>\n",
       "      <td>1.136364</td>\n",
       "      <td>CA Osasuna</td>\n",
       "      <td>Navarrra</td>\n",
       "    </tr>\n",
       "  </tbody>\n",
       "</table>\n",
       "</div>"
      ],
      "text/plain": [
       "               Equipos  Goles  Partidos  Goles por partido  \\\n",
       "8           Arsenal FC      9         6           1.500000   \n",
       "9      Athletic Bilbao     29        41           0.707317   \n",
       "10  Atletico de Madrid     32        43           0.744186   \n",
       "15         Benidorm CD      1         1           1.000000   \n",
       "17          CA Osasuna     25        22           1.136364   \n",
       "\n",
       "              Opponent      Comunidad  \n",
       "8           Arsenal FC        Londres  \n",
       "9      Athletic Bilbao     País Vasco  \n",
       "10  Atletico de Madrid         Madrid  \n",
       "15         Benidorm CD  C. Valenciana  \n",
       "17          CA Osasuna       Navarrra  "
      ]
     },
     "execution_count": 305,
     "metadata": {},
     "output_type": "execute_result"
    }
   ],
   "source": [
    "# Mejor promedio vs comunidades o provincias de otros paises en donde al menos haya jugado 10 partidos.\n",
    "\n",
    "mas_10_partidos = golespartidos_conccaa[golespartidos_conccaa['Comunidad'].isin(golespartidos_conccaa.groupby('Comunidad')['Partidos'].aggregate(sum).sort_values(ascending=False).head(14).index)]\n",
    "mas_10_partidos.head()"
   ]
  },
  {
   "cell_type": "code",
   "execution_count": 306,
   "metadata": {},
   "outputs": [
    {
     "data": {
      "text/plain": [
       "Comunidad\n",
       "Cataluña           1.238095\n",
       "Islas Baleares     1.142857\n",
       "Navarrra           1.136364\n",
       "Aragón             1.104167\n",
       "País Vasco         1.068875\n",
       "Madrid             0.986748\n",
       "C. Valenciana      0.979336\n",
       "Galicia            0.949346\n",
       "Andalucía          0.940657\n",
       "Londres            0.933333\n",
       "Cantabria          0.923077\n",
       "Castilla y León    0.888889\n",
       "Manchester         0.770833\n",
       "París              0.600000\n",
       "Name: Goles por partido, dtype: float64"
      ]
     },
     "execution_count": 306,
     "metadata": {},
     "output_type": "execute_result"
    }
   ],
   "source": [
    "# Calculo del promedio por Comunidad\n",
    "\n",
    "mas_10_partidos.groupby('Comunidad')['Goles por partido'].mean().sort_values(ascending=False)"
   ]
  },
  {
   "cell_type": "code",
   "execution_count": 307,
   "metadata": {},
   "outputs": [
    {
     "data": {
      "text/plain": [
       "Comunidad\n",
       "Cataluña          1.238095\n",
       "Islas Baleares    1.142857\n",
       "Navarrra          1.136364\n",
       "Aragón            1.104167\n",
       "País Vasco        1.068875\n",
       "Madrid            0.986748\n",
       "C. Valenciana     0.979336\n",
       "Galicia           0.949346\n",
       "Andalucía         0.940657\n",
       "Londres           0.933333\n",
       "Name: Goles por partido, dtype: float64"
      ]
     },
     "execution_count": 307,
     "metadata": {},
     "output_type": "execute_result"
    }
   ],
   "source": [
    "# La hipotesis inicial es que el mejor rendimiento es vs. equipos de la Comunidad de Madrid, los resultados muestran que es la 6ta Comunidad en cuanto a rendimiento.\n",
    "\n",
    "mas_10_partidos.groupby('Comunidad')['Goles por partido'].mean().sort_values(ascending=False).head(10)"
   ]
  },
  {
   "cell_type": "code",
   "execution_count": 308,
   "metadata": {},
   "outputs": [
    {
     "data": {
      "text/html": [
       "<div>\n",
       "<style scoped>\n",
       "    .dataframe tbody tr th:only-of-type {\n",
       "        vertical-align: middle;\n",
       "    }\n",
       "\n",
       "    .dataframe tbody tr th {\n",
       "        vertical-align: top;\n",
       "    }\n",
       "\n",
       "    .dataframe thead th {\n",
       "        text-align: right;\n",
       "    }\n",
       "</style>\n",
       "<table border=\"1\" class=\"dataframe\">\n",
       "  <thead>\n",
       "    <tr style=\"text-align: right;\">\n",
       "      <th></th>\n",
       "      <th>Season</th>\n",
       "      <th>Competition</th>\n",
       "      <th>Matchday</th>\n",
       "      <th>Date</th>\n",
       "      <th>Venue</th>\n",
       "      <th>Club</th>\n",
       "      <th>Opponent</th>\n",
       "      <th>Result</th>\n",
       "      <th>Playing_Position</th>\n",
       "      <th>Minute</th>\n",
       "      <th>At_score</th>\n",
       "      <th>Type</th>\n",
       "      <th>Goal_assist</th>\n",
       "      <th>Comunidad</th>\n",
       "    </tr>\n",
       "  </thead>\n",
       "  <tbody>\n",
       "    <tr>\n",
       "      <th>193</th>\n",
       "      <td>06/07</td>\n",
       "      <td>LaLiga</td>\n",
       "      <td>26</td>\n",
       "      <td>03/10/07</td>\n",
       "      <td>H</td>\n",
       "      <td>FC Barcelona</td>\n",
       "      <td>Real Madrid</td>\n",
       "      <td>3:03</td>\n",
       "      <td>RW</td>\n",
       "      <td>11</td>\n",
       "      <td>1:01</td>\n",
       "      <td>Left-footed shot</td>\n",
       "      <td>Samuel Etoo</td>\n",
       "      <td>Madrid</td>\n",
       "    </tr>\n",
       "    <tr>\n",
       "      <th>194</th>\n",
       "      <td>06/07</td>\n",
       "      <td>LaLiga</td>\n",
       "      <td>26</td>\n",
       "      <td>03/10/07</td>\n",
       "      <td>H</td>\n",
       "      <td>FC Barcelona</td>\n",
       "      <td>Real Madrid</td>\n",
       "      <td>3:03</td>\n",
       "      <td>RW</td>\n",
       "      <td>28</td>\n",
       "      <td>2:02</td>\n",
       "      <td>Left-footed shot</td>\n",
       "      <td>NaN</td>\n",
       "      <td>Madrid</td>\n",
       "    </tr>\n",
       "    <tr>\n",
       "      <th>195</th>\n",
       "      <td>06/07</td>\n",
       "      <td>LaLiga</td>\n",
       "      <td>26</td>\n",
       "      <td>03/10/07</td>\n",
       "      <td>H</td>\n",
       "      <td>FC Barcelona</td>\n",
       "      <td>Real Madrid</td>\n",
       "      <td>3:03</td>\n",
       "      <td>RW</td>\n",
       "      <td>90+1</td>\n",
       "      <td>3:03</td>\n",
       "      <td>Left-footed shot</td>\n",
       "      <td>Ronaldinho Gaacho</td>\n",
       "      <td>Madrid</td>\n",
       "    </tr>\n",
       "    <tr>\n",
       "      <th>196</th>\n",
       "      <td>08/09</td>\n",
       "      <td>LaLiga</td>\n",
       "      <td>15</td>\n",
       "      <td>12/13/08</td>\n",
       "      <td>H</td>\n",
       "      <td>FC Barcelona</td>\n",
       "      <td>Real Madrid</td>\n",
       "      <td>2:00</td>\n",
       "      <td>RW</td>\n",
       "      <td>89</td>\n",
       "      <td>2:00</td>\n",
       "      <td>Counter attack goal</td>\n",
       "      <td>Thierry Henry</td>\n",
       "      <td>Madrid</td>\n",
       "    </tr>\n",
       "    <tr>\n",
       "      <th>197</th>\n",
       "      <td>08/09</td>\n",
       "      <td>LaLiga</td>\n",
       "      <td>34</td>\n",
       "      <td>05-02/09</td>\n",
       "      <td>A</td>\n",
       "      <td>FC Barcelona</td>\n",
       "      <td>Real Madrid</td>\n",
       "      <td>2:06</td>\n",
       "      <td>CF</td>\n",
       "      <td>35</td>\n",
       "      <td>1:03</td>\n",
       "      <td>Left-footed shot</td>\n",
       "      <td>Xavi</td>\n",
       "      <td>Madrid</td>\n",
       "    </tr>\n",
       "  </tbody>\n",
       "</table>\n",
       "</div>"
      ],
      "text/plain": [
       "    Season Competition Matchday      Date Venue          Club     Opponent  \\\n",
       "193  06/07      LaLiga       26  03/10/07     H  FC Barcelona  Real Madrid   \n",
       "194  06/07      LaLiga       26  03/10/07     H  FC Barcelona  Real Madrid   \n",
       "195  06/07      LaLiga       26  03/10/07     H  FC Barcelona  Real Madrid   \n",
       "196  08/09      LaLiga       15  12/13/08     H  FC Barcelona  Real Madrid   \n",
       "197  08/09      LaLiga       34  05-02/09     A  FC Barcelona  Real Madrid   \n",
       "\n",
       "    Result Playing_Position Minute At_score                 Type  \\\n",
       "193   3:03               RW     11     1:01     Left-footed shot   \n",
       "194   3:03               RW     28     2:02     Left-footed shot   \n",
       "195   3:03               RW   90+1     3:03     Left-footed shot   \n",
       "196   2:00               RW     89     2:00  Counter attack goal   \n",
       "197   2:06               CF     35     1:03     Left-footed shot   \n",
       "\n",
       "           Goal_assist Comunidad  \n",
       "193        Samuel Etoo    Madrid  \n",
       "194                NaN    Madrid  \n",
       "195  Ronaldinho Gaacho    Madrid  \n",
       "196      Thierry Henry    Madrid  \n",
       "197               Xavi    Madrid  "
      ]
     },
     "execution_count": 308,
     "metadata": {},
     "output_type": "execute_result"
    }
   ],
   "source": [
    "# Rendimiento en clásicos (vs Real Madrid y vs Espanyol)\n",
    "\n",
    "derby = df_con_ccaa[(df_con_ccaa['Opponent'] == 'RCD Espanyol Barcelona') | (df_con_ccaa['Opponent'] == 'Real Madrid')]\n",
    "derby.head()"
   ]
  },
  {
   "cell_type": "code",
   "execution_count": 309,
   "metadata": {},
   "outputs": [
    {
     "data": {
      "text/html": [
       "<div>\n",
       "<style scoped>\n",
       "    .dataframe tbody tr th:only-of-type {\n",
       "        vertical-align: middle;\n",
       "    }\n",
       "\n",
       "    .dataframe tbody tr th {\n",
       "        vertical-align: top;\n",
       "    }\n",
       "\n",
       "    .dataframe thead th {\n",
       "        text-align: right;\n",
       "    }\n",
       "</style>\n",
       "<table border=\"1\" class=\"dataframe\">\n",
       "  <thead>\n",
       "    <tr style=\"text-align: right;\">\n",
       "      <th></th>\n",
       "      <th>Equipos</th>\n",
       "      <th>Goles</th>\n",
       "      <th>Partidos</th>\n",
       "      <th>Goles por partido</th>\n",
       "      <th>Opponent</th>\n",
       "      <th>Comunidad</th>\n",
       "    </tr>\n",
       "  </thead>\n",
       "  <tbody>\n",
       "    <tr>\n",
       "      <th>60</th>\n",
       "      <td>RCD Espanyol Barcelona</td>\n",
       "      <td>25</td>\n",
       "      <td>35</td>\n",
       "      <td>0.714286</td>\n",
       "      <td>RCD Espanyol Barcelona</td>\n",
       "      <td>Cataluña</td>\n",
       "    </tr>\n",
       "    <tr>\n",
       "      <th>68</th>\n",
       "      <td>Real Madrid</td>\n",
       "      <td>26</td>\n",
       "      <td>47</td>\n",
       "      <td>0.553191</td>\n",
       "      <td>Real Madrid</td>\n",
       "      <td>Madrid</td>\n",
       "    </tr>\n",
       "  </tbody>\n",
       "</table>\n",
       "</div>"
      ],
      "text/plain": [
       "                   Equipos  Goles  Partidos  Goles por partido  \\\n",
       "60  RCD Espanyol Barcelona     25        35           0.714286   \n",
       "68             Real Madrid     26        47           0.553191   \n",
       "\n",
       "                  Opponent Comunidad  \n",
       "60  RCD Espanyol Barcelona  Cataluña  \n",
       "68             Real Madrid    Madrid  "
      ]
     },
     "execution_count": 309,
     "metadata": {},
     "output_type": "execute_result"
    }
   ],
   "source": [
    "mas_10_partidos[mas_10_partidos['Equipos'].isin(derby['Opponent'].values)]"
   ]
  },
  {
   "cell_type": "code",
   "execution_count": 310,
   "metadata": {},
   "outputs": [
    {
     "data": {
      "text/plain": [
       "0.6337386018237082"
      ]
     },
     "execution_count": 310,
     "metadata": {},
     "output_type": "execute_result"
    }
   ],
   "source": [
    "# Promedio de gol en clásicos\n",
    "\n",
    "mas_10_partidos[mas_10_partidos['Equipos'].isin(derby['Opponent'].values)]['Goles por partido'].mean()"
   ]
  },
  {
   "cell_type": "code",
   "execution_count": 311,
   "metadata": {},
   "outputs": [
    {
     "data": {
      "text/plain": [
       "0.8709273182957393"
      ]
     },
     "execution_count": 311,
     "metadata": {},
     "output_type": "execute_result"
    }
   ],
   "source": [
    "# Promedio general\n",
    "\n",
    "(golespartidos_conccaa['Goles'].sum()) / (golespartidos_conccaa['Partidos'].sum())"
   ]
  },
  {
   "cell_type": "code",
   "execution_count": 312,
   "metadata": {},
   "outputs": [
    {
     "data": {
      "text/plain": [
       "'\\nEl rendimiento de goles en los derby baja considerablemente con respecto al promedio general\\n'"
      ]
     },
     "execution_count": 312,
     "metadata": {},
     "output_type": "execute_result"
    }
   ],
   "source": [
    "'''\n",
    "El rendimiento de goles en los derby baja considerablemente con respecto al promedio general\n",
    "'''"
   ]
  },
  {
   "cell_type": "code",
   "execution_count": 313,
   "metadata": {},
   "outputs": [
    {
     "data": {
      "text/plain": [
       "'\\nGráficos\\n'"
      ]
     },
     "execution_count": 313,
     "metadata": {},
     "output_type": "execute_result"
    }
   ],
   "source": [
    "'''\n",
    "Gráficos\n",
    "'''"
   ]
  },
  {
   "cell_type": "code",
   "execution_count": 314,
   "metadata": {},
   "outputs": [
    {
     "name": "stderr",
     "output_type": "stream",
     "text": [
      "C:\\Users\\matia\\AppData\\Local\\Temp\\ipykernel_47524\\2485548401.py:5: FutureWarning: The provided callable <built-in function sum> is currently using SeriesGroupBy.sum. In a future version of pandas, the provided callable will be used directly. To keep current behavior pass the string \"sum\" instead.\n",
      "  df=a.groupby('Comunidad')['Partidos'].aggregate(sum).sort_values(ascending=False)\n",
      "C:\\Users\\matia\\AppData\\Local\\Temp\\ipykernel_47524\\2485548401.py:8: FutureWarning: \n",
      "\n",
      "Passing `palette` without assigning `hue` is deprecated and will be removed in v0.14.0. Assign the `x` variable to `hue` and set `legend=False` for the same effect.\n",
      "\n",
      "  ax = sns.barplot(x=\"Comunidad\", y=\"Partidos\", data=df, palette=\"Set3\", estimator=\"sum\", errorbar=None)\n"
     ]
    },
    {
     "data": {
      "image/png": "[encoded data removed]",
      "text/plain": [
       "<Figure size 1000x400 with 1 Axes>"
      ]
     },
     "metadata": {},
     "output_type": "display_data"
    }
   ],
   "source": [
    "# Gráfico de Comunidades con más goles recibidos\n",
    "\n",
    "plt.style.use('seaborn-v0_8')\n",
    "a = golespartidos_conccaa[(golespartidos_conccaa['Comunidad']=='Madrid') | (golespartidos_conccaa['Comunidad']=='Andalucía') | (golespartidos_conccaa['Comunidad']=='C. Valenciana')]\n",
    "df=a.groupby('Comunidad')['Partidos'].aggregate(sum).sort_values(ascending=False)\n",
    "df = pd.DataFrame(df)\n",
    "fig = plt.figure(figsize=(10, 4))\n",
    "ax = sns.barplot(x=\"Comunidad\", y=\"Partidos\", data=df, palette=\"Set3\", estimator=\"sum\", errorbar=None)\n",
    "plt.title(\"Suma de Goles por Comunidad\")\n",
    "plt.xlabel(\"Comunidad\")\n",
    "plt.ylabel(\"Suma de Goles marcados\")\n",
    "for container in ax.containers:\n",
    "    ax.bar_label(container, label_type=\"center\", fontsize=10);"
   ]
  },
  {
   "cell_type": "code",
   "execution_count": 315,
   "metadata": {},
   "outputs": [],
   "source": [
    "# import os\n",
    "# os.getcwd()\n",
    "fig.savefig('graficos/partidosporcomunidad.png')"
   ]
  },
  {
   "cell_type": "code",
   "execution_count": 316,
   "metadata": {},
   "outputs": [
    {
     "name": "stderr",
     "output_type": "stream",
     "text": [
      "C:\\Users\\matia\\AppData\\Local\\Temp\\ipykernel_47524\\1007116382.py:6: FutureWarning: \n",
      "\n",
      "Passing `palette` without assigning `hue` is deprecated and will be removed in v0.14.0. Assign the `x` variable to `hue` and set `legend=False` for the same effect.\n",
      "\n",
      "  ax = sns.barplot(x=\"Comunidad\", y=\"Goles por partido\", data=df, palette=\"Set3\", estimator=\"sum\", errorbar=None)\n"
     ]
    },
    {
     "data": {
      "image/png": "[encoded data removed]",
      "text/plain": [
       "<Figure size 1100x400 with 1 Axes>"
      ]
     },
     "metadata": {},
     "output_type": "display_data"
    }
   ],
   "source": [
    "# Gráfico de Comunidades con mejor promedio de gol\n",
    "\n",
    "df = mas_10_partidos.groupby('Comunidad')['Goles por partido'].aggregate('mean').round(3).sort_values(ascending=False).head(6)\n",
    "df = pd.DataFrame(df)\n",
    "fig = plt.figure(figsize=(11, 4))\n",
    "ax = sns.barplot(x=\"Comunidad\", y=\"Goles por partido\", data=df, palette=\"Set3\", estimator=\"sum\", errorbar=None)\n",
    "plt.title(\"Goles por partido por Comunidad\")\n",
    "plt.xlabel(\"Comunidad\")\n",
    "plt.ylabel(\"Goles por Partido\")\n",
    "for container in ax.containers:\n",
    "    ax.bar_label(container, label_type=\"center\", fontsize=10);"
   ]
  },
  {
   "cell_type": "code",
   "execution_count": 317,
   "metadata": {},
   "outputs": [],
   "source": [
    "fig.savefig('graficos/golesporpartidoporcomunidad.png')"
   ]
  },
  {
   "cell_type": "code",
   "execution_count": 318,
   "metadata": {},
   "outputs": [
    {
     "name": "stderr",
     "output_type": "stream",
     "text": [
      "C:\\Users\\matia\\AppData\\Local\\Temp\\ipykernel_47524\\191173725.py:7: FutureWarning: \n",
      "\n",
      "Passing `palette` without assigning `hue` is deprecated and will be removed in v0.14.0. Assign the `x` variable to `hue` and set `legend=False` for the same effect.\n",
      "\n",
      "  ax = sns.barplot(x=[\"General\", \"Clásicos\"], y=[promedio_general,promedio_derby], palette=\"Set3\", estimator=\"sum\", errorbar=None)\n"
     ]
    },
    {
     "data": {
      "image/png": "[encoded data removed]",
      "text/plain": [
       "<Figure size 800x400 with 1 Axes>"
      ]
     },
     "metadata": {},
     "output_type": "display_data"
    }
   ],
   "source": [
    "# Gráfico de diferencia entre promedio general y promedio en clásicos.\n",
    "\n",
    "promedio_derby = mas_10_partidos[mas_10_partidos['Equipos'].isin(derby['Opponent'].values)]['Goles por partido'].mean()\n",
    "promedio_general = (golespartidos_conccaa['Goles'].sum()) / (golespartidos_conccaa['Partidos'].sum())\n",
    "\n",
    "fig = plt.figure(figsize=(8, 4))\n",
    "ax = sns.barplot(x=[\"General\", \"Clásicos\"], y=[promedio_general,promedio_derby], palette=\"Set3\", estimator=\"sum\", errorbar=None)\n",
    "plt.title(\"Comparación de goles por partido (clásicos vs general)\")\n",
    "plt.ylabel(\"Goles por partido\")\n",
    "for container in ax.containers:\n",
    "    ax.bar_label(container, label_type=\"center\", fontsize=10);"
   ]
  },
  {
   "cell_type": "code",
   "execution_count": 319,
   "metadata": {},
   "outputs": [],
   "source": [
    "fig.savefig('graficos/comparación_clasicos_vs_general.png')"
   ]
  },
  {
   "cell_type": "code",
   "execution_count": 320,
   "metadata": {},
   "outputs": [
    {
     "data": {
      "text/plain": [
       "'\\nAnálisis de la estatura de Messi en comparación con los demas goleadores del top 50\\nAlgunos datos de estaturas no los pude obtener por lo no serán tenidos en cuenta esos futbolistas\\n'"
      ]
     },
     "execution_count": 320,
     "metadata": {},
     "output_type": "execute_result"
    }
   ],
   "source": [
    "'''\n",
    "Análisis de la estatura de Messi en comparación con los demas goleadores del top 50\n",
    "Algunos datos de estaturas no los pude obtener por lo no serán tenidos en cuenta esos futbolistas\n",
    "'''"
   ]
  },
  {
   "cell_type": "code",
   "execution_count": 321,
   "metadata": {},
   "outputs": [
    {
     "data": {
      "text/plain": [
       "False"
      ]
     },
     "execution_count": 321,
     "metadata": {},
     "output_type": "execute_result"
    }
   ],
   "source": [
    "#Cargo el dataset de goleadores y veo que no queden datos nulos\n",
    "\n",
    "goleadores = pd.read_csv('data/goleadores.csv')\n",
    "goleadores = goleadores.dropna()\n",
    "goleadores.isnull().values.any()"
   ]
  },
  {
   "cell_type": "code",
   "execution_count": 322,
   "metadata": {},
   "outputs": [
    {
     "name": "stdout",
     "output_type": "stream",
     "text": [
      "<class 'pandas.core.frame.DataFrame'>\n",
      "Index: 45 entries, 0 to 49\n",
      "Data columns (total 5 columns):\n",
      " #   Column    Non-Null Count  Dtype  \n",
      "---  ------    --------------  -----  \n",
      " 0   Jugador   45 non-null     object \n",
      " 1   Goles     45 non-null     int64  \n",
      " 2   Partidos  45 non-null     int64  \n",
      " 3   Promedio  45 non-null     float64\n",
      " 4   Altura    45 non-null     float64\n",
      "dtypes: float64(2), int64(2), object(1)\n",
      "memory usage: 2.1+ KB\n"
     ]
    }
   ],
   "source": [
    "# Paso la altura a tipo float\n",
    "\n",
    "goleadores['Altura'] = goleadores['Altura'].str.replace(',', '.').astype(float)\n",
    "goleadores.info()"
   ]
  },
  {
   "cell_type": "code",
   "execution_count": 323,
   "metadata": {},
   "outputs": [
    {
     "data": {
      "text/html": [
       "<div>\n",
       "<style scoped>\n",
       "    .dataframe tbody tr th:only-of-type {\n",
       "        vertical-align: middle;\n",
       "    }\n",
       "\n",
       "    .dataframe tbody tr th {\n",
       "        vertical-align: top;\n",
       "    }\n",
       "\n",
       "    .dataframe thead th {\n",
       "        text-align: right;\n",
       "    }\n",
       "</style>\n",
       "<table border=\"1\" class=\"dataframe\">\n",
       "  <thead>\n",
       "    <tr style=\"text-align: right;\">\n",
       "      <th></th>\n",
       "      <th>Jugador</th>\n",
       "      <th>Goles</th>\n",
       "      <th>Partidos</th>\n",
       "      <th>Promedio</th>\n",
       "      <th>Altura</th>\n",
       "    </tr>\n",
       "  </thead>\n",
       "  <tbody>\n",
       "    <tr>\n",
       "      <th>28</th>\n",
       "      <td>Imre Schlosser</td>\n",
       "      <td>475</td>\n",
       "      <td>388</td>\n",
       "      <td>1.22</td>\n",
       "      <td>178.00</td>\n",
       "    </tr>\n",
       "    <tr>\n",
       "      <th>11</th>\n",
       "      <td>Zlatan Ibrahimović</td>\n",
       "      <td>573</td>\n",
       "      <td>986</td>\n",
       "      <td>0.58</td>\n",
       "      <td>1.95</td>\n",
       "    </tr>\n",
       "    <tr>\n",
       "      <th>41</th>\n",
       "      <td>Sebastián Abreu</td>\n",
       "      <td>435</td>\n",
       "      <td>852</td>\n",
       "      <td>0.51</td>\n",
       "      <td>1.93</td>\n",
       "    </tr>\n",
       "    <tr>\n",
       "      <th>37</th>\n",
       "      <td>Aleksandar Đurić</td>\n",
       "      <td>443</td>\n",
       "      <td>733</td>\n",
       "      <td>0.60</td>\n",
       "      <td>1.92</td>\n",
       "    </tr>\n",
       "    <tr>\n",
       "      <th>0</th>\n",
       "      <td>Cristiano Ronaldo</td>\n",
       "      <td>859</td>\n",
       "      <td>1187</td>\n",
       "      <td>0.72</td>\n",
       "      <td>1.87</td>\n",
       "    </tr>\n",
       "  </tbody>\n",
       "</table>\n",
       "</div>"
      ],
      "text/plain": [
       "               Jugador  Goles  Partidos  Promedio  Altura\n",
       "28      Imre Schlosser    475       388      1.22  178.00\n",
       "11  Zlatan Ibrahimović    573       986      0.58    1.95\n",
       "41     Sebastián Abreu    435       852      0.51    1.93\n",
       "37    Aleksandar Đurić    443       733      0.60    1.92\n",
       "0    Cristiano Ronaldo    859      1187      0.72    1.87"
      ]
     },
     "execution_count": 323,
     "metadata": {},
     "output_type": "execute_result"
    }
   ],
   "source": [
    "# Hay un dato mal escrito.\n",
    "\n",
    "goleadores.sort_values('Altura', ascending=False).head()"
   ]
  },
  {
   "cell_type": "code",
   "execution_count": 324,
   "metadata": {},
   "outputs": [],
   "source": [
    "goleadores.at[28, 'Altura'] = 1.78"
   ]
  },
  {
   "cell_type": "code",
   "execution_count": 325,
   "metadata": {},
   "outputs": [
    {
     "data": {
      "text/html": [
       "<div>\n",
       "<style scoped>\n",
       "    .dataframe tbody tr th:only-of-type {\n",
       "        vertical-align: middle;\n",
       "    }\n",
       "\n",
       "    .dataframe tbody tr th {\n",
       "        vertical-align: top;\n",
       "    }\n",
       "\n",
       "    .dataframe thead th {\n",
       "        text-align: right;\n",
       "    }\n",
       "</style>\n",
       "<table border=\"1\" class=\"dataframe\">\n",
       "  <thead>\n",
       "    <tr style=\"text-align: right;\">\n",
       "      <th></th>\n",
       "      <th>Jugador</th>\n",
       "      <th>Goles</th>\n",
       "      <th>Partidos</th>\n",
       "      <th>Promedio</th>\n",
       "      <th>Altura</th>\n",
       "    </tr>\n",
       "  </thead>\n",
       "  <tbody>\n",
       "    <tr>\n",
       "      <th>4</th>\n",
       "      <td>Romário</td>\n",
       "      <td>753</td>\n",
       "      <td>963</td>\n",
       "      <td>0.78</td>\n",
       "      <td>1.67</td>\n",
       "    </tr>\n",
       "    <tr>\n",
       "      <th>16</th>\n",
       "      <td>Jimmy McGrory</td>\n",
       "      <td>528</td>\n",
       "      <td>522</td>\n",
       "      <td>1.01</td>\n",
       "      <td>1.68</td>\n",
       "    </tr>\n",
       "    <tr>\n",
       "      <th>1</th>\n",
       "      <td>Lionel Messi</td>\n",
       "      <td>819</td>\n",
       "      <td>1042</td>\n",
       "      <td>0.79</td>\n",
       "      <td>1.70</td>\n",
       "    </tr>\n",
       "    <tr>\n",
       "      <th>15</th>\n",
       "      <td>Uwe Seeler</td>\n",
       "      <td>535</td>\n",
       "      <td>653</td>\n",
       "      <td>0.82</td>\n",
       "      <td>1.70</td>\n",
       "    </tr>\n",
       "    <tr>\n",
       "      <th>21</th>\n",
       "      <td>Ferenc Bene</td>\n",
       "      <td>508</td>\n",
       "      <td>493</td>\n",
       "      <td>1.03</td>\n",
       "      <td>1.71</td>\n",
       "    </tr>\n",
       "    <tr>\n",
       "      <th>49</th>\n",
       "      <td>József Takacs</td>\n",
       "      <td>418</td>\n",
       "      <td>388</td>\n",
       "      <td>1.08</td>\n",
       "      <td>1.72</td>\n",
       "    </tr>\n",
       "  </tbody>\n",
       "</table>\n",
       "</div>"
      ],
      "text/plain": [
       "          Jugador  Goles  Partidos  Promedio  Altura\n",
       "4         Romário    753       963      0.78    1.67\n",
       "16  Jimmy McGrory    528       522      1.01    1.68\n",
       "1    Lionel Messi    819      1042      0.79    1.70\n",
       "15     Uwe Seeler    535       653      0.82    1.70\n",
       "21    Ferenc Bene    508       493      1.03    1.71\n",
       "49  József Takacs    418       388      1.08    1.72"
      ]
     },
     "execution_count": 325,
     "metadata": {},
     "output_type": "execute_result"
    }
   ],
   "source": [
    "df = goleadores.sort_values('Altura', ascending=True).head(6)\n",
    "df"
   ]
  },
  {
   "cell_type": "code",
   "execution_count": 326,
   "metadata": {},
   "outputs": [
    {
     "name": "stdout",
     "output_type": "stream",
     "text": [
      "['Solarize_Light2', '_classic_test_patch', '_mpl-gallery', '_mpl-gallery-nogrid', 'bmh', 'classic', 'dark_background', 'fast', 'fivethirtyeight', 'ggplot', 'grayscale', 'seaborn-v0_8', 'seaborn-v0_8-bright', 'seaborn-v0_8-colorblind', 'seaborn-v0_8-dark', 'seaborn-v0_8-dark-palette', 'seaborn-v0_8-darkgrid', 'seaborn-v0_8-deep', 'seaborn-v0_8-muted', 'seaborn-v0_8-notebook', 'seaborn-v0_8-paper', 'seaborn-v0_8-pastel', 'seaborn-v0_8-poster', 'seaborn-v0_8-talk', 'seaborn-v0_8-ticks', 'seaborn-v0_8-white', 'seaborn-v0_8-whitegrid', 'tableau-colorblind10']\n"
     ]
    }
   ],
   "source": [
    "print(plt.style.available)"
   ]
  },
  {
   "cell_type": "code",
   "execution_count": 327,
   "metadata": {},
   "outputs": [
    {
     "data": {
      "image/png": "[encoded data removed]",
      "text/plain": [
       "<Figure size 1300x400 with 1 Axes>"
      ]
     },
     "metadata": {},
     "output_type": "display_data"
    }
   ],
   "source": [
    "# Gráfico de distribución de alturas.\n",
    "\n",
    "plt.style.use('seaborn-v0_8')\n",
    "fig = plt.figure(figsize=(13, 4))\n",
    "ax = plt.hist(goleadores['Altura'], bins=10, color='sandybrown', alpha=0.8)\n",
    "plt.title(\"Distribución de alturas de los máximos goleadores\")\n",
    "plt.xlabel(\"Jugadores\")\n",
    "plt.ylabel(\"Altura\");\n"
   ]
  },
  {
   "cell_type": "code",
   "execution_count": 328,
   "metadata": {},
   "outputs": [],
   "source": [
    "fig.savefig('graficos/distribucion_alturas.png')"
   ]
  },
  {
   "cell_type": "code",
   "execution_count": 329,
   "metadata": {},
   "outputs": [
    {
     "data": {
      "text/html": [
       "<div>\n",
       "<style scoped>\n",
       "    .dataframe tbody tr th:only-of-type {\n",
       "        vertical-align: middle;\n",
       "    }\n",
       "\n",
       "    .dataframe tbody tr th {\n",
       "        vertical-align: top;\n",
       "    }\n",
       "\n",
       "    .dataframe thead th {\n",
       "        text-align: right;\n",
       "    }\n",
       "</style>\n",
       "<table border=\"1\" class=\"dataframe\">\n",
       "  <thead>\n",
       "    <tr style=\"text-align: right;\">\n",
       "      <th></th>\n",
       "      <th>Jugador</th>\n",
       "      <th>Goles</th>\n",
       "      <th>Partidos</th>\n",
       "      <th>Promedio</th>\n",
       "      <th>Altura</th>\n",
       "    </tr>\n",
       "  </thead>\n",
       "  <tbody>\n",
       "    <tr>\n",
       "      <th>49</th>\n",
       "      <td>József Takacs</td>\n",
       "      <td>418</td>\n",
       "      <td>388</td>\n",
       "      <td>1.08</td>\n",
       "      <td>1.72</td>\n",
       "    </tr>\n",
       "    <tr>\n",
       "      <th>5</th>\n",
       "      <td>Ferenc Puskás</td>\n",
       "      <td>741</td>\n",
       "      <td>746</td>\n",
       "      <td>0.99</td>\n",
       "      <td>1.72</td>\n",
       "    </tr>\n",
       "    <tr>\n",
       "      <th>30</th>\n",
       "      <td>Jimmy Greaves</td>\n",
       "      <td>466</td>\n",
       "      <td>661</td>\n",
       "      <td>0.70</td>\n",
       "      <td>1.72</td>\n",
       "    </tr>\n",
       "    <tr>\n",
       "      <th>19</th>\n",
       "      <td>Zico</td>\n",
       "      <td>523</td>\n",
       "      <td>773</td>\n",
       "      <td>0.68</td>\n",
       "      <td>1.72</td>\n",
       "    </tr>\n",
       "    <tr>\n",
       "      <th>21</th>\n",
       "      <td>Ferenc Bene</td>\n",
       "      <td>508</td>\n",
       "      <td>493</td>\n",
       "      <td>1.03</td>\n",
       "      <td>1.71</td>\n",
       "    </tr>\n",
       "    <tr>\n",
       "      <th>1</th>\n",
       "      <td>Lionel Messi</td>\n",
       "      <td>819</td>\n",
       "      <td>1042</td>\n",
       "      <td>0.79</td>\n",
       "      <td>1.70</td>\n",
       "    </tr>\n",
       "    <tr>\n",
       "      <th>15</th>\n",
       "      <td>Uwe Seeler</td>\n",
       "      <td>535</td>\n",
       "      <td>653</td>\n",
       "      <td>0.82</td>\n",
       "      <td>1.70</td>\n",
       "    </tr>\n",
       "    <tr>\n",
       "      <th>16</th>\n",
       "      <td>Jimmy McGrory</td>\n",
       "      <td>528</td>\n",
       "      <td>522</td>\n",
       "      <td>1.01</td>\n",
       "      <td>1.68</td>\n",
       "    </tr>\n",
       "    <tr>\n",
       "      <th>4</th>\n",
       "      <td>Romário</td>\n",
       "      <td>753</td>\n",
       "      <td>963</td>\n",
       "      <td>0.78</td>\n",
       "      <td>1.67</td>\n",
       "    </tr>\n",
       "  </tbody>\n",
       "</table>\n",
       "</div>"
      ],
      "text/plain": [
       "          Jugador  Goles  Partidos  Promedio  Altura\n",
       "49  József Takacs    418       388      1.08    1.72\n",
       "5   Ferenc Puskás    741       746      0.99    1.72\n",
       "30  Jimmy Greaves    466       661      0.70    1.72\n",
       "19           Zico    523       773      0.68    1.72\n",
       "21    Ferenc Bene    508       493      1.03    1.71\n",
       "1    Lionel Messi    819      1042      0.79    1.70\n",
       "15     Uwe Seeler    535       653      0.82    1.70\n",
       "16  Jimmy McGrory    528       522      1.01    1.68\n",
       "4         Romário    753       963      0.78    1.67"
      ]
     },
     "execution_count": 329,
     "metadata": {},
     "output_type": "execute_result"
    }
   ],
   "source": [
    "goleadores_mas_bajos = (goleadores.sort_values(by=\"Altura\", ascending=True)).iloc[0:9, :]\n",
    "goleadores_mas_bajos = goleadores_mas_bajos.sort_values(by=\"Altura\", ascending=False)\n",
    "goleadores_mas_bajos"
   ]
  },
  {
   "cell_type": "code",
   "execution_count": 330,
   "metadata": {},
   "outputs": [
    {
     "data": {
      "image/png": "[encoded data removed]",
      "text/plain": [
       "<Figure size 1000x500 with 1 Axes>"
      ]
     },
     "metadata": {},
     "output_type": "display_data"
    }
   ],
   "source": [
    "# Comparativa alturas\n",
    "\n",
    "# goleadores_mas_bajos = (goleadores.sort_values(by=\"Altura\", ascending=True)).iloc[0:9, :]\n",
    "fig = plt.figure(figsize=(10, 5))\n",
    "ax = plt.barh(goleadores_mas_bajos[\"Jugador\"], goleadores_mas_bajos[\"Altura\"], color='sandybrown', alpha=0.8)\n",
    "plt.title(\"Los 10 goleadores más bajos dentro del top 50 histórico\")\n",
    "plt.xlabel(\"Altura\")\n",
    "plt.xlim(1.6, 1.73);"
   ]
  },
  {
   "cell_type": "code",
   "execution_count": 331,
   "metadata": {},
   "outputs": [],
   "source": [
    "fig.savefig('graficos/los10masbajos.png')"
   ]
  },
  {
   "cell_type": "code",
   "execution_count": 332,
   "metadata": {},
   "outputs": [
    {
     "data": {
      "text/plain": [
       "'\\nNo solo Messi no es el jugador más bajo (si bien esta entre los 3 más bajos) sino que la mayoria de los goleadores\\ndel top 50 tienen o tuvieron estaturas de entre 1.67 m y 1.72 m\\n'"
      ]
     },
     "execution_count": 332,
     "metadata": {},
     "output_type": "execute_result"
    }
   ],
   "source": [
    "'''\n",
    "No solo Messi no es el jugador más bajo (si bien esta entre los 3 más bajos) sino que la mayoria de los goleadores\n",
    "del top 50 tienen o tuvieron estaturas de entre 1.67 m y 1.72 m\n",
    "'''"
   ]
  }
 ],
 "metadata": {
  "kernelspec": {
   "display_name": "Python 3",
   "language": "python",
   "name": "python3"
  },
  "language_info": {
   "codemirror_mode": {
    "name": "ipython",
    "version": 3
   },
   "file_extension": ".py",
   "mimetype": "text/x-python",
   "name": "python",
   "nbconvert_exporter": "python",
   "pygments_lexer": "ipython3",
   "version": "3.11.5"
  }
 },
 "nbformat": 4,
 "nbformat_minor": 2
}
